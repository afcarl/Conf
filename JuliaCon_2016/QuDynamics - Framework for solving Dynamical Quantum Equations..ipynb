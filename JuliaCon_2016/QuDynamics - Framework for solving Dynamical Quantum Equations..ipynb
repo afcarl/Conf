{
 "cells": [
  {
   "cell_type": "markdown",
   "metadata": {},
   "source": [
    "### Introduction "
   ]
  },
  {
   "cell_type": "markdown",
   "metadata": {},
   "source": [
    "QuDynamics provides a framework to solve Quantum Mechanics Equations using various solvers like : \n",
    "\n",
    "1. `ode45`, `ode78`, `ode23s` solvers from ODE.jl\n",
    "2. `expmv` from QuExpmV.jl, QuExpokit.jl\n",
    "3. Monte Carlo Wavefunction Method\n",
    "4. Euler, Crank Nicholson, Krylov solver methods.\n",
    "\n",
    "to solve Time independent and Time dependent \n",
    "\n",
    "1. Schrodinger Equation\n",
    "2. Liouville von Neumann Equation\n",
    "3. Lindblad Master Equation"
   ]
  },
  {
   "cell_type": "markdown",
   "metadata": {},
   "source": [
    "----------"
   ]
  },
  {
   "cell_type": "markdown",
   "metadata": {},
   "source": [
    "The package uses various basic constructs from QuBase.jl, the base package which includes all the necessary machinery for quantum physics related operations. PyPlot.jl will be used for plotting. Loading all the packages"
   ]
  },
  {
   "cell_type": "code",
   "execution_count": 1,
   "metadata": {
    "collapsed": true
   },
   "outputs": [],
   "source": [
    "using QuBase\n",
    "using QuDynamics\n",
    "using PyPlot"
   ]
  },
  {
   "cell_type": "markdown",
   "metadata": {},
   "source": [
    "---"
   ]
  },
  {
   "cell_type": "markdown",
   "metadata": {},
   "source": [
    "The following are the minimum parameters to define a system \n",
    "\n",
    "1. Hamiltonian of the system\n",
    "2. Initial state of the system\n",
    "3. Time steps at which the system is evolved"
   ]
  },
  {
   "cell_type": "markdown",
   "metadata": {},
   "source": [
    "#### Defining the system"
   ]
  },
  {
   "cell_type": "markdown",
   "metadata": {},
   "source": [
    "<style TYPE=\"text/css\">\n",
    "code.has-jax {font: inherit; font-size: 100%; background: inherit; border: inherit;}\n",
    "</style>\n",
    "<script type=\"text/x-mathjax-config\">\n",
    "MathJax.Hub.Config({\n",
    "    tex2jax: {\n",
    "        inlineMath: [['$','$'], ['\\\\(','\\\\)']],\n",
    "        skipTags: ['script', 'noscript', 'style', 'textarea', 'pre'] // removed 'code' entry\n",
    "    }\n",
    "});\n",
    "MathJax.Hub.Queue(function() {\n",
    "    var all = MathJax.Hub.getAllJax(), i;\n",
    "    for(i = 0; i < all.length; i += 1) {\n",
    "        all[i].SourceElement().parentNode.className += ' has-jax';\n",
    "    }\n",
    "});\n",
    "</script>\n",
    "<script type=\"text/javascript\" src=\"http://cdn.mathjax.org/mathjax/latest/MathJax.js?config=TeX-AMS-MML_HTMLorMML\"></script>\n",
    "\n",
    "Setting up a very basic system by defining the above parameters\n",
    "\n",
    "Hamiltonian ℋ - σₓ \n",
    "\n",
    "Initial State ψ - $\\begin{pmatrix}\n",
    "  1  \\\\\n",
    "  0\n",
    " \\end{pmatrix}$\n",
    "\n",
    "Time steps - 0. - 2*$\\pi$ spaced at 0.1"
   ]
  },
  {
   "cell_type": "markdown",
   "metadata": {},
   "source": [
    "##### Converting the above data into a suitable format for QuDynamics"
   ]
  },
  {
   "cell_type": "code",
   "execution_count": 2,
   "metadata": {
    "collapsed": false
   },
   "outputs": [],
   "source": [
    "ℋ = σₓ;\n",
    "ψ = statevec(1, FiniteBasis(2));\n",
    "tₙ = 0.:0.1:2*pi;"
   ]
  },
  {
   "cell_type": "markdown",
   "metadata": {},
   "source": [
    "Using the above data along with a specific solver from \n",
    "\n",
    "* QuODE45\n",
    "* QuODE78\n",
    "* QuODE23s\n",
    "* QuExpmV\n",
    "* QuExpokit\n",
    "* QuEuler\n",
    "* QuCrankNicolson\n",
    "* QuKrylov\n",
    "\n",
    "construct `prop_expmV`. \n",
    "\n",
    "Note : `QuPropagator` and `QuPropagatorState` are equivalent."
   ]
  },
  {
   "cell_type": "code",
   "execution_count": 3,
   "metadata": {
    "collapsed": false
   },
   "outputs": [
    {
     "data": {
      "text/plain": [
       "QuDynamics.QuStateEvolution{QuDynamics.QuExpmV,QuBase.QuArray{QuBase.FiniteBasis{QuBase.Orthonormal},Float64,1,Array{Float64,1}},QuDynamics.QuSchrodingerEq{H<:QuBase.AbstractQuArray{B<:QuBase.AbstractBasis{S<:QuBase.AbstractStructure},T,2}}}(QuDynamics.QuSchrodingerEq{QuBase.QuArray{QuBase.FiniteBasis{QuBase.Orthonormal},Float64,2,Array{Float64,2}}}(2x2 QuMatrix in QuBase.FiniteBasis{QuBase.Orthonormal}:\n",
       "...coefficients: Array{Float64,2}\n",
       "[0.0 1.0\n",
       " 1.0 0.0]),2-element QuVector in QuBase.FiniteBasis{QuBase.Orthonormal}:\n",
       "...coefficients: Array{Float64,1}\n",
       "[1.0,0.0],0.0:0.1:6.2,QuDynamics.QuExpmV(Dict{Symbol,Any}()))"
      ]
     },
     "execution_count": 3,
     "metadata": {},
     "output_type": "execute_result"
    }
   ],
   "source": [
    "prop_expmV = QuPropagator(ℋ, ψ, tₙ, QuExpmV())"
   ]
  },
  {
   "cell_type": "markdown",
   "metadata": {},
   "source": [
    "Evolution can be done in the following way,  plotting the evolved states"
   ]
  },
  {
   "cell_type": "code",
   "execution_count": 4,
   "metadata": {
    "collapsed": false
   },
   "outputs": [
    {
     "data": {
      "image/png": "[encoded data removed]",
      "text/plain": [
       "PyPlot.Figure(PyObject <matplotlib.figure.Figure object at 0x7fb4b4479dd0>)"
      ]
     },
     "metadata": {},
     "output_type": "display_data"
    }
   ],
   "source": [
    "for (t, psi) in prop_expmV\n",
    "    plot(t, real(coeffs(psi)[1]), \"ro\")\n",
    "    plot(t, imag(coeffs(psi)[2]), \"bo\")\n",
    "end"
   ]
  },
  {
   "cell_type": "markdown",
   "metadata": {},
   "source": [
    "Let's try other solver and see if the result is the same "
   ]
  },
  {
   "cell_type": "code",
   "execution_count": 5,
   "metadata": {
    "collapsed": false
   },
   "outputs": [
    {
     "data": {
      "text/plain": [
       "QuDynamics.QuStateEvolution{QuDynamics.QuODE45,QuBase.QuArray{QuBase.FiniteBasis{QuBase.Orthonormal},Float64,1,Array{Float64,1}},QuDynamics.QuSchrodingerEq{H<:QuBase.AbstractQuArray{B<:QuBase.AbstractBasis{S<:QuBase.AbstractStructure},T,2}}}(QuDynamics.QuSchrodingerEq{QuBase.QuArray{QuBase.FiniteBasis{QuBase.Orthonormal},Float64,2,Array{Float64,2}}}(2x2 QuMatrix in QuBase.FiniteBasis{QuBase.Orthonormal}:\n",
       "...coefficients: Array{Float64,2}\n",
       "[0.0 1.0\n",
       " 1.0 0.0]),2-element QuVector in QuBase.FiniteBasis{QuBase.Orthonormal}:\n",
       "...coefficients: Array{Float64,1}\n",
       "[1.0,0.0],0.0:0.1:6.2,QuDynamics.QuODE45(Dict{Symbol,Any}()))"
      ]
     },
     "execution_count": 5,
     "metadata": {},
     "output_type": "execute_result"
    }
   ],
   "source": [
    "prop_ode45 = QuPropagator(ℋ, ψ, tₙ, QuODE45())"
   ]
  },
  {
   "cell_type": "code",
   "execution_count": 7,
   "metadata": {
    "collapsed": false
   },
   "outputs": [
    {
     "data": {
      "image/png": "[encoded data removed]",
      "text/plain": [
       "PyPlot.Figure(PyObject <matplotlib.figure.Figure object at 0x7fb4b440d1d0>)"
      ]
     },
     "metadata": {},
     "output_type": "display_data"
    }
   ],
   "source": [
    "for (t, psi) in prop_ode45\n",
    "    plot(t, real(coeffs(psi)[1]), \"ro\")\n",
    "    plot(t, imag(coeffs(psi)[2]), \"bo\")\n",
    "end"
   ]
  },
  {
   "cell_type": "markdown",
   "metadata": {},
   "source": [
    "Looking at the above results, the above construction is also equivalent to"
   ]
  },
  {
   "cell_type": "code",
   "execution_count": 9,
   "metadata": {
    "collapsed": false
   },
   "outputs": [
    {
     "data": {
      "text/plain": [
       "QuDynamics.QuStateEvolution{QuDynamics.QuExpmV,QuBase.QuArray{QuBase.FiniteBasis{QuBase.Orthonormal},Float64,1,Array{Float64,1}},QuDynamics.QuSchrodingerEq{H<:QuBase.AbstractQuArray{B<:QuBase.AbstractBasis{S<:QuBase.AbstractStructure},T,2}}}(QuDynamics.QuSchrodingerEq{QuBase.QuArray{QuBase.FiniteBasis{QuBase.Orthonormal},Float64,2,Array{Float64,2}}}(2x2 QuMatrix in QuBase.FiniteBasis{QuBase.Orthonormal}:\n",
       "...coefficients: Array{Float64,2}\n",
       "[0.0 1.0\n",
       " 1.0 0.0]),2-element QuVector in QuBase.FiniteBasis{QuBase.Orthonormal}:\n",
       "...coefficients: Array{Float64,1}\n",
       "[1.0,0.0],0.0:0.1:6.2,QuDynamics.QuExpmV(Dict{Symbol,Any}()))"
      ]
     },
     "execution_count": 9,
     "metadata": {},
     "output_type": "execute_result"
    }
   ],
   "source": [
    "ℋₑ = QuSchrodingerEq(σₓ);\n",
    "prop_expmv = QuPropagator(ℋₑ, ψ, tₙ, QuExpmV())"
   ]
  },
  {
   "cell_type": "code",
   "execution_count": 10,
   "metadata": {
    "collapsed": false,
    "scrolled": true
   },
   "outputs": [
    {
     "data": {
      "image/png": "[encoded data removed]",
      "text/plain": [
       "PyPlot.Figure(PyObject <matplotlib.figure.Figure object at 0x7fb4b3e25650>)"
      ]
     },
     "metadata": {},
     "output_type": "display_data"
    }
   ],
   "source": [
    "for (t, psi) in prop_expmv\n",
    "    plot(t, real(coeffs(psi)[1]), \"ro\")\n",
    "    plot(t, imag(coeffs(psi)[2]), \"bo\")\n",
    "end"
   ]
  },
  {
   "cell_type": "markdown",
   "metadata": {},
   "source": [
    "A more realistic system would involve influence of the environment whose information is captured by the action of the collapse operators on the Hamiltonian. Consider the following toy model :"
   ]
  },
  {
   "cell_type": "code",
   "execution_count": 13,
   "metadata": {
    "collapsed": true
   },
   "outputs": [],
   "source": [
    "ℋₛ = σₓ;\n",
    "ψ = statevec(1, FiniteBasis(2));\n",
    "ρ = ψ*ψ';\n",
    "tlist = 0.:0.1:2*π;\n",
    "𝓒 = [lowerop(2)];"
   ]
  },
  {
   "cell_type": "code",
   "execution_count": 16,
   "metadata": {
    "collapsed": false
   },
   "outputs": [
    {
     "data": {
      "text/plain": [
       "QuDynamics.QuStateEvolution{QuDynamics.QuExpmV,QuBase.QuArray{QuBase.FiniteBasis{QuBase.Orthonormal},Float64,2,Array{Float64,2}},QuDynamics.QuLindbladMasterEq{CF,L<:Union{QuBase.AbstractQuArray{B<:QuBase.AbstractBasis{S<:QuBase.AbstractStructure},T,2},Void},H<:QuBase.AbstractQuArray{B<:QuBase.AbstractBasis{S<:QuBase.AbstractStructure},T,2},V<:QuBase.AbstractQuArray{B<:QuBase.AbstractBasis{S<:QuBase.AbstractStructure},T,2}}}(QuDynamics.QuLindbladMasterEq{1,QuBase.QuArray{QuBase.FiniteBasis{QuBase.Orthonormal},Complex{Float64},2,SparseMatrixCSC{Complex{Float64},Int64}},QuBase.QuArray{QuBase.FiniteBasis{QuBase.Orthonormal},Float64,2,Array{Float64,2}},QuBase.QuArray{QuBase.FiniteBasis{QuBase.Orthonormal},Float64,2,SparseMatrixCSC{Float64,Int64}}}(4x4 QuMatrix in QuBase.FiniteBasis{QuBase.Orthonormal}:\n",
       "...coefficients: SparseMatrixCSC{Complex{Float64},Int64}\n",
       "\n",
       "\t[2, 1]  =  1.0+0.0im\n",
       "\t[3, 1]  =  -1.0+0.0im\n",
       "\t[1, 2]  =  1.0+0.0im\n",
       "\t[2, 2]  =  -0.0-0.5im\n",
       "\t[4, 2]  =  -1.0+0.0im\n",
       "\t[1, 3]  =  -1.0+0.0im\n",
       "\t[3, 3]  =  -0.0-0.5im\n",
       "\t[4, 3]  =  1.0+0.0im\n",
       "\t[1, 4]  =  0.0+1.0im\n",
       "\t[2, 4]  =  -1.0+0.0im\n",
       "\t[3, 4]  =  1.0+0.0im\n",
       "\t[4, 4]  =  -0.0-1.0im,2x2 QuMatrix in QuBase.FiniteBasis{QuBase.Orthonormal}:\n",
       "...coefficients: Array{Float64,2}\n",
       "[0.0 1.0\n",
       " 1.0 0.0],[2x2 QuMatrix in QuBase.FiniteBasis{QuBase.Orthonormal}:\n",
       "...coefficients: SparseMatrixCSC{Float64,Int64}\n",
       "\n",
       "\t[1, 2]  =  1.0]),2x2 QuMatrix in QuBase.FiniteBasis{QuBase.Orthonormal}:\n",
       "...coefficients: Array{Float64,2}\n",
       "[1.0 0.0\n",
       " 0.0 0.0],0.0:0.1:6.2,QuDynamics.QuExpmV(Dict{Symbol,Any}()))"
      ]
     },
     "execution_count": 16,
     "metadata": {},
     "output_type": "execute_result"
    }
   ],
   "source": [
    "qme = QuPropagator(ℋₛ, 𝓒, ρ,  tlist, QuExpmV())"
   ]
  },
  {
   "cell_type": "code",
   "execution_count": 17,
   "metadata": {
    "collapsed": false
   },
   "outputs": [
    {
     "name": "stdout",
     "output_type": "stream",
     "text": [
      "0.12x2 QuMatrix in QuBase.FiniteBasis{QuBase.Orthonormal}:\n",
      "...coefficients: Array{Complex{Float64},2}\n",
      "Complex{Float64}[0.9905170780293868 + 0.0im 0.0 + 0.09690817546948688im\n",
      "                 0.0 - 0.09690817546948688im 0.009482921970613062 + 0.0im]\n",
      "0.22x2 QuMatrix in QuBase.FiniteBasis{QuBase.Orthonormal}:\n",
      "...coefficients: Array{Complex{Float64},2}\n",
      "Complex{Float64}[0.9642470826116335 + 0.0im 0.0 + 0.18553478884649552im\n",
      "                 0.0 - 0.18553478884649552im 0.03575291738836631 + 0.0im]\n",
      "0.300000000000000042x2 QuMatrix in QuBase.FiniteBasis{QuBase.Orthonormal}:\n",
      "...coefficients: Array{Complex{Float64},2}\n",
      "Complex{Float64}[0.9246219705320204 + 0.0im 0.0 + 0.26334376367061607im\n",
      "                 0.0 - 0.26334376367061607im 0.07537802946797939 + 0.0im]\n",
      "0.42x2 QuMatrix in QuBase.FiniteBasis{QuBase.Orthonormal}:\n",
      "...coefficients: Array{Complex{Float64},2}\n",
      "Complex{Float64}[0.8751516438633471 + 0.0im 0.0 + 0.3286026299454265im\n",
      "                 0.0 - 0.3286026299454265im 0.1248483561366526 + 0.0im]\n",
      "0.52x2 QuMatrix in QuBase.FiniteBasis{QuBase.Orthonormal}:\n",
      "...coefficients: Array{Complex{Float64},2}\n",
      "Complex{Float64}[0.8192669713843955 + 0.0im 0.0 + 0.3803427129677166im\n",
      "                 0.0 - 0.3803427129677166im 0.1807330286156041 + 0.0im]\n",
      "0.60000000000000012x2 QuMatrix in QuBase.FiniteBasis{QuBase.Orthonormal}:\n",
      "...coefficients: Array{Complex{Float64},2}\n",
      "Complex{Float64}[0.7601879661133071 + 0.0im 0.0 + 0.4182930698229159im\n",
      "                 0.0 - 0.4182930698229159im 0.2398120338866925 + 0.0im]\n",
      "0.70000000000000012x2 QuMatrix in QuBase.FiniteBasis{QuBase.Orthonormal}:\n",
      "...coefficients: Array{Complex{Float64},2}\n",
      "Complex{Float64}[0.7008191028368029 + 0.0im 0.0 + 0.44279458059019944im\n",
      "                 0.0 - 0.44279458059019944im 0.2991808971631968 + 0.0im]\n",
      "0.82x2 QuMatrix in QuBase.FiniteBasis{QuBase.Orthonormal}:\n",
      "...coefficients: Array{Complex{Float64},2}\n",
      "Complex{Float64}[0.6436723533068698 + 0.0im 0.0 + 0.45470053503388286im\n",
      "                 0.0 - 0.45470053503388286im 0.3563276466931298 + 0.0im]\n",
      "0.92x2 QuMatrix in QuBase.FiniteBasis{QuBase.Orthonormal}:\n",
      "...coefficients: Array{Complex{Float64},2}\n",
      "Complex{Float64}[0.5908172823918154 + 0.0im 0.0 + 0.4552697345471873im\n",
      "                 0.0 - 0.4552697345471873im 0.40918271760818414 + 0.0im]\n",
      "1.02x2 QuMatrix in QuBase.FiniteBasis{QuBase.Orthonormal}:\n",
      "...coefficients: Array{Complex{Float64},2}\n",
      "Complex{Float64}[0.5438565133635627 + 0.0im 0.0 + 0.446057602208057im\n",
      "                 0.0 - 0.446057602208057im 0.456143486636437 + 0.0im]\n",
      "1.12x2 QuMatrix in QuBase.FiniteBasis{QuBase.Orthonormal}:\n",
      "...coefficients: Array{Complex{Float64},2}\n",
      "Complex{Float64}[0.5039240500123201 + 0.0im 0.0 + 0.42881011161985166im\n",
      "                 0.0 - 0.42881011161985166im 0.4960759499876796 + 0.0im]\n",
      "1.20000000000000022x2 QuMatrix in QuBase.FiniteBasis{QuBase.Orthonormal}:\n",
      "...coefficients: Array{Complex{Float64},2}\n",
      "Complex{Float64}[0.4717033416672668 + 0.0im 0.0 + 0.40536455777199726im\n",
      "                 0.0 - 0.40536455777199726im 0.528296658332733 + 0.0im]\n",
      "1.32x2 QuMatrix in QuBase.FiniteBasis{QuBase.Orthonormal}:\n",
      "...coefficients: Array{Complex{Float64},2}\n",
      "Complex{Float64}[0.4474615890254841 + 0.0im 0.0 + 0.3775603479096374im\n",
      "                 0.0 - 0.3775603479096374im 0.5525384109745158 + 0.0im]\n",
      "1.40000000000000012x2 QuMatrix in QuBase.FiniteBasis{QuBase.Orthonormal}:\n",
      "...coefficients: Array{Complex{Float64},2}\n",
      "Complex{Float64}[0.4310966003813664 + 0.0im 0.0 + 0.34716213058783935im\n",
      "                 0.0 - 0.34716213058783935im 0.5689033996186335 + 0.0im]\n",
      "1.52x2 QuMatrix in QuBase.FiniteBasis{QuBase.Orthonormal}:\n",
      "...coefficients: Array{Complex{Float64},2}\n",
      "Complex{Float64}[0.4221924994049153 + 0.0im 0.0 + 0.31579674452914974im\n",
      "                 0.0 - 0.31579674452914974im 0.5778075005950846 + 0.0im]\n",
      "1.62x2 QuMatrix in QuBase.FiniteBasis{QuBase.Orthonormal}:\n",
      "...coefficients: Array{Complex{Float64},2}\n",
      "Complex{Float64}[0.42008073233726456 + 0.0im 0.0 + 0.2849046871906576im\n",
      "                 0.0 - 0.2849046871906576im 0.5799192676627355 + 0.0im]\n",
      "1.70000000000000022x2 QuMatrix in QuBase.FiniteBasis{QuBase.Orthonormal}:\n",
      "...coefficients: Array{Complex{Float64},2}\n",
      "Complex{Float64}[0.42390309663431247 + 0.0im 0.0 + 0.25570610098249424im\n",
      "                 0.0 - 0.25570610098249424im 0.5760969033656874 + 0.0im]\n",
      "1.82x2 QuMatrix in QuBase.FiniteBasis{QuBase.Orthonormal}:\n",
      "...coefficients: Array{Complex{Float64},2}\n",
      "Complex{Float64}[0.4326738855289814 + 0.0im 0.0 + 0.22918067097916128im\n",
      "                 0.0 - 0.22918067097916128im 0.5673261144710183 + 0.0im]\n",
      "1.90000000000000012x2 QuMatrix in QuBase.FiniteBasis{QuBase.Orthonormal}:\n",
      "...coefficients: Array{Complex{Float64},2}\n",
      "Complex{Float64}[0.445338684505074 + 0.0im 0.0 + 0.20606033324604067im\n",
      "                 0.0 - 0.20606033324604067im 0.5546613154949257 + 0.0im]\n",
      "2.02x2 QuMatrix in QuBase.FiniteBasis{QuBase.Orthonormal}:\n",
      "...coefficients: Array{Complex{Float64},2}\n",
      "Complex{Float64}[0.46082783827714674 + 0.0im 0.0 + 0.1868333129256706im\n",
      "                 0.0 - 0.1868333129256706im 0.5391721617228529 + 0.0im]\n",
      "2.12x2 QuMatrix in QuBase.FiniteBasis{QuBase.Orthonormal}:\n",
      "...coefficients: Array{Complex{Float64},2}\n",
      "Complex{Float64}[0.4781031047380299 + 0.0im 0.0 + 0.1717577458282567im\n",
      "                 0.0 - 0.1717577458282567im 0.5218968952619698 + 0.0im]\n",
      "2.22x2 QuMatrix in QuBase.FiniteBasis{QuBase.Orthonormal}:\n",
      "...coefficients: Array{Complex{Float64},2}\n",
      "Complex{Float64}[0.49619650261537596 + 0.0im 0.0 + 0.1608829815376036im\n",
      "                 0.0 - 0.1608829815376036im 0.5038034973846238 + 0.0im]\n",
      "2.30000000000000032x2 QuMatrix in QuBase.FiniteBasis{QuBase.Orthonormal}:\n",
      "...coefficients: Array{Complex{Float64},2}\n",
      "Complex{Float64}[0.5142408229168589 + 0.0im 0.0 + 0.1540766111848387im\n",
      "                 0.0 - 0.1540766111848387im 0.485759177083141 + 0.0im]\n",
      "2.40000000000000042x2 QuMatrix in QuBase.FiniteBasis{QuBase.Orthonormal}:\n",
      "...coefficients: Array{Complex{Float64},2}\n",
      "Complex{Float64}[0.5314916951037865 + 0.0im 0.0 + 0.1510552972907943im\n",
      "                 0.0 - 0.1510552972907943im 0.46850830489621353 + 0.0im]\n",
      "2.52x2 QuMatrix in QuBase.FiniteBasis{QuBase.Orthonormal}:\n",
      "...coefficients: Array{Complex{Float64},2}\n",
      "Complex{Float64}[0.5473414657108715 + 0.0im 0.0 + 0.1514175925959693im\n",
      "                 0.0 - 0.1514175925959693im 0.4526585342891285 + 0.0im]\n",
      "2.62x2 QuMatrix in QuBase.FiniteBasis{QuBase.Orthonormal}:\n",
      "...coefficients: Array{Complex{Float64},2}\n",
      "Complex{Float64}[0.5613254520895536 + 0.0im 0.0 + 0.1546771045407888im\n",
      "                 0.0 - 0.1546771045407888im 0.43867454791044647 + 0.0im]\n",
      "2.72x2 QuMatrix in QuBase.FiniteBasis{QuBase.Orthonormal}:\n",
      "...coefficients: Array{Complex{Float64},2}\n",
      "Complex{Float64}[0.5731213730085178 + 0.0im 0.0 + 0.1602945765728209im\n",
      "                 0.0 - 0.1602945765728209im 0.4268786269914821 + 0.0im]\n",
      "2.80000000000000032x2 QuMatrix in QuBase.FiniteBasis{QuBase.Orthonormal}:\n",
      "...coefficients: Array{Complex{Float64},2}\n",
      "Complex{Float64}[0.5825429302255641 + 0.0im 0.0 + 0.167707701575094im\n",
      "                 0.0 - 0.167707701575094im 0.4174570697744359 + 0.0im]\n",
      "2.90000000000000042x2 QuMatrix in QuBase.FiniteBasis{QuBase.Orthonormal}:\n",
      "...coefficients: Array{Complex{Float64},2}\n",
      "Complex{Float64}[0.589528622960706 + 0.0im 0.0 + 0.17635774214424815im\n",
      "                 0.0 - 0.17635774214424815im 0.4104713770392942 + 0.0im]\n",
      "3.02x2 QuMatrix in QuBase.FiniteBasis{QuBase.Orthonormal}:\n",
      "...coefficients: Array{Complex{Float64},2}\n",
      "Complex{Float64}[0.5941269249562106 + 0.0im 0.0 + 0.18571229426482358im\n",
      "                 0.0 - 0.18571229426482358im 0.4058730750437896 + 0.0im]\n",
      "3.12x2 QuMatrix in QuBase.FiniteBasis{QuBase.Orthonormal}:\n",
      "...coefficients: Array{Complex{Float64},2}\n",
      "Complex{Float64}[0.5964789478829379 + 0.0im 0.0 + 0.195283783894834im\n",
      "                 0.0 - 0.195283783894834im 0.4035210521170622 + 0.0im]\n",
      "3.22x2 QuMatrix in QuBase.FiniteBasis{QuBase.Orthonormal}:\n",
      "...coefficients: Array{Complex{Float64},2}\n",
      "Complex{Float64}[0.5967996629680359 + 0.0im 0.0 + 0.20464352079904777im\n",
      "                 0.0 - 0.20464352079904777im 0.4032003370319639 + 0.0im]\n",
      "3.30000000000000032x2 QuMatrix in QuBase.FiniteBasis{QuBase.Orthonormal}:\n",
      "...coefficients: Array{Complex{Float64},2}\n",
      "Complex{Float64}[0.5953586634383745 + 0.0im 0.0 + 0.21343134339203237im\n",
      "                 0.0 - 0.21343134339203237im 0.4046413365616254 + 0.0im]\n",
      "3.40000000000000042x2 QuMatrix in QuBase.FiniteBasis{QuBase.Orthonormal}:\n",
      "...coefficients: Array{Complex{Float64},2}\n",
      "Complex{Float64}[0.5924613326229284 + 0.0im 0.0 + 0.22136106720177312im\n",
      "                 0.0 - 0.22136106720177312im 0.40753866737707134 + 0.0im]\n",
      "3.52x2 QuMatrix in QuBase.FiniteBasis{QuBase.Orthonormal}:\n",
      "...coefficients: Array{Complex{Float64},2}\n",
      "Complex{Float64}[0.5884311452034976 + 0.0im 0.0 + 0.22822209464998497im\n",
      "                 0.0 - 0.22822209464998497im 0.41156885479650224 + 0.0im]\n",
      "3.62x2 QuMatrix in QuBase.FiniteBasis{QuBase.Orthonormal}:\n",
      "...coefficients: Array{Complex{Float64},2}\n",
      "Complex{Float64}[0.5835936805953534 + 0.0im 0.0 + 0.23387765383000259im\n",
      "                 0.0 - 0.23387765383000259im 0.4164063194046464 + 0.0im]\n",
      "3.72x2 QuMatrix in QuBase.FiniteBasis{QuBase.Orthonormal}:\n",
      "...coefficients: Array{Complex{Float64},2}\n",
      "Complex{Float64}[0.5782627755138722 + 0.0im 0.0 + 0.2382602091577817im\n",
      "                 0.0 - 0.2382602091577817im 0.4217372244861277 + 0.0im]\n",
      "3.80000000000000032x2 QuMatrix in QuBase.FiniteBasis{QuBase.Orthonormal}:\n",
      "...coefficients: Array{Complex{Float64},2}\n",
      "Complex{Float64}[0.572729094240836 + 0.0im 0.0 + 0.2413646288916215im\n",
      "                 0.0 - 0.2413646288916215im 0.42727090575916393 + 0.0im]\n",
      "3.90000000000000042x2 QuMatrix in QuBase.FiniteBasis{QuBase.Orthonormal}:\n",
      "...coefficients: Array{Complex{Float64},2}\n",
      "Complex{Float64}[0.5672512556576179 + 0.0im 0.0 + 0.24323970641523548im\n",
      "                 0.0 - 0.24323970641523548im 0.4327487443423819 + 0.0im]\n",
      "4.02x2 QuMatrix in QuBase.FiniteBasis{QuBase.Orthonormal}:\n",
      "...coefficients: Array{Complex{Float64},2}\n",
      "Complex{Float64}[0.5620495303002481 + 0.0im 0.0 + 0.24397861757094055im\n",
      "                 0.0 - 0.24397861757094055im 0.4379504696997517 + 0.0im]\n",
      "4.10000000000000052x2 QuMatrix in QuBase.FiniteBasis{QuBase.Orthonormal}:\n",
      "...coefficients: Array{Complex{Float64},2}\n",
      "Complex{Float64}[0.5573020118519542 + 0.0im 0.0 + 0.24370885951533772im\n",
      "                 0.0 - 0.24370885951533772im 0.4426979881480458 + 0.0im]\n",
      "4.22x2 QuMatrix in QuBase.FiniteBasis{QuBase.Orthonormal}:\n",
      "...coefficients: Array{Complex{Float64},2}\n",
      "Complex{Float64}[0.5531430777891218 + 0.0im 0.0 + 0.24258216217474812im\n",
      "                 0.0 - 0.24258216217474812im 0.44685692221087814 + 0.0im]\n",
      "4.32x2 QuMatrix in QuBase.FiniteBasis{QuBase.Orthonormal}:\n",
      "...coefficients: Array{Complex{Float64},2}\n",
      "Complex{Float64}[0.5496638844050146 + 0.0im 0.0 + 0.24076479611522533im\n",
      "                 0.0 - 0.24076479611522533im 0.4503361155949852 + 0.0im]\n",
      "4.42x2 QuMatrix in QuBase.FiniteBasis{QuBase.Orthonormal}:\n",
      "...coefficients: Array{Complex{Float64},2}\n",
      "Complex{Float64}[0.5469145922302282 + 0.0im 0.0 + 0.23842862510472926im\n",
      "                 0.0 - 0.23842862510472926im 0.45308540776977163 + 0.0im]\n",
      "4.52x2 QuMatrix in QuBase.FiniteBasis{QuBase.Orthonormal}:\n",
      "...coefficients: Array{Complex{Float64},2}\n",
      "Complex{Float64}[0.5449079881724979 + 0.0im 0.0 + 0.23574317213032997im\n",
      "                 0.0 - 0.23574317213032997im 0.45509201182750186 + 0.0im]\n",
      "4.60000000000000052x2 QuMatrix in QuBase.FiniteBasis{QuBase.Orthonormal}:\n",
      "...coefficients: Array{Complex{Float64},2}\n",
      "Complex{Float64}[0.5436241590299806 + 0.0im 0.0 + 0.23286888800544042im\n",
      "                 0.0 - 0.23286888800544042im 0.4563758409700192 + 0.0im]\n",
      "4.72x2 QuMatrix in QuBase.FiniteBasis{QuBase.Orthonormal}:\n",
      "...coefficients: Array{Complex{Float64},2}\n",
      "Complex{Float64}[0.5430158753661182 + 0.0im 0.0 + 0.22995173529181856im\n",
      "                 0.0 - 0.22995173529181856im 0.45698412463388166 + 0.0im]\n",
      "4.8000000000000012x2 QuMatrix in QuBase.FiniteBasis{QuBase.Orthonormal}:\n",
      "...coefficients: Array{Complex{Float64},2}\n",
      "Complex{Float64}[0.5430143626612255 + 0.0im 0.0 + 0.22711912980129229im\n",
      "                 0.0 - 0.22711912980129229im 0.4569856373387744 + 0.0im]\n",
      "4.92x2 QuMatrix in QuBase.FiniteBasis{QuBase.Orthonormal}:\n",
      "...coefficients: Array{Complex{Float64},2}\n",
      "Complex{Float64}[0.5435351655362965 + 0.0im 0.0 + 0.2244772195373224im\n",
      "                 0.0 - 0.2244772195373224im 0.45646483446370334 + 0.0im]\n",
      "5.02x2 QuMatrix in QuBase.FiniteBasis{QuBase.Orthonormal}:\n",
      "...coefficients: Array{Complex{Float64},2}\n",
      "Complex{Float64}[0.5444838479501536 + 0.0im 0.0 + 0.22210942806262182im\n",
      "                 0.0 - 0.22210942806262182im 0.45551615204984647 + 0.0im]\n",
      "5.10000000000000052x2 QuMatrix in QuBase.FiniteBasis{QuBase.Orthonormal}:\n",
      "...coefficients: Array{Complex{Float64},2}\n",
      "Complex{Float64}[0.5457613149115125 + 0.0im 0.0 + 0.22007614680971668im\n",
      "                 0.0 - 0.22007614680971668im 0.4542386850884875 + 0.0im]\n",
      "5.22x2 QuMatrix in QuBase.FiniteBasis{QuBase.Orthonormal}:\n",
      "...coefficients: Array{Complex{Float64},2}\n",
      "Complex{Float64}[0.5472685868766781 + 0.0im 0.0 + 0.21841542910534154im\n",
      "                 0.0 - 0.21841542910534154im 0.452731413123322 + 0.0im]\n",
      "5.3000000000000012x2 QuMatrix in QuBase.FiniteBasis{QuBase.Orthonormal}:\n",
      "...coefficients: Array{Complex{Float64},2}\n",
      "Complex{Float64}[0.5489109043054994 + 0.0im 0.0 + 0.2171445174848553im\n",
      "                 0.0 - 0.2171445174848553im 0.4510890956945007 + 0.0im]\n",
      "5.42x2 QuMatrix in QuBase.FiniteBasis{QuBase.Orthonormal}:\n",
      "...coefficients: Array{Complex{Float64},2}\n",
      "Complex{Float64}[0.5506010848016221 + 0.0im 0.0 + 0.21626202464209757im\n",
      "                 0.0 - 0.21626202464209757im 0.4493989151983781 + 0.0im]\n",
      "5.52x2 QuMatrix in QuBase.FiniteBasis{QuBase.Orthonormal}:\n",
      "...coefficients: Array{Complex{Float64},2}\n",
      "Complex{Float64}[0.5522620971843152 + 0.0im 0.0 + 0.2157505861729288im\n",
      "                 0.0 - 0.2157505861729288im 0.447737902815685 + 0.0im]\n",
      "5.60000000000000052x2 QuMatrix in QuBase.FiniteBasis{QuBase.Orthonormal}:\n",
      "...coefficients: Array{Complex{Float64},2}\n",
      "Complex{Float64}[0.553828854405367 + 0.0im 0.0 + 0.2155798089584686im\n",
      "                 0.0 - 0.2155798089584686im 0.4461711455946329 + 0.0im]\n",
      "5.72x2 QuMatrix in QuBase.FiniteBasis{QuBase.Orthonormal}:\n",
      "...coefficients: Array{Complex{Float64},2}\n",
      "Complex{Float64}[0.5552492594784247 + 0.0im 0.0 + 0.21570935126305651im\n",
      "                 0.0 - 0.21570935126305651im 0.44475074052157537 + 0.0im]\n",
      "5.8000000000000012x2 QuMatrix in QuBase.FiniteBasis{QuBase.Orthonormal}:\n",
      "...coefficients: Array{Complex{Float64},2}\n",
      "Complex{Float64}[0.5564845649268932 + 0.0im 0.0 + 0.21609198797196072im\n",
      "                 0.0 - 0.21609198797196072im 0.4435154350731068 + 0.0im]\n",
      "5.92x2 QuMatrix in QuBase.FiniteBasis{QuBase.Orthonormal}:\n",
      "...coefficients: Array{Complex{Float64},2}\n",
      "Complex{Float64}[0.5575091264075408 + 0.0im 0.0 + 0.21667653542923343im\n",
      "                 0.0 - 0.21667653542923343im 0.44249087359245937 + 0.0im]\n",
      "6.02x2 QuMatrix in QuBase.FiniteBasis{QuBase.Orthonormal}:\n",
      "...coefficients: Array{Complex{Float64},2}\n",
      "Complex{Float64}[0.5583096451532421 + 0.0im 0.0 + 0.21741053366779212im\n",
      "                 0.0 - 0.21741053366779212im 0.44169035484675795 + 0.0im]\n",
      "6.10000000000000052x2 QuMatrix in QuBase.FiniteBasis{QuBase.Orthonormal}:\n",
      "...coefficients: Array{Complex{Float64},2}\n",
      "Complex{Float64}[0.5588840019762956 + 0.0im 0.0 + 0.21824260816060553im\n",
      "                 0.0 - 0.21824260816060553im 0.4411159980237045 + 0.0im]\n",
      "6.22x2 QuMatrix in QuBase.FiniteBasis{QuBase.Orthonormal}:\n",
      "...coefficients: Array{Complex{Float64},2}\n",
      "Complex{Float64}[0.5592397882665026 + 0.0im 0.0 + 0.21912445741060893im\n",
      "                 0.0 - 0.21912445741060893im 0.4407602117334975 + 0.0im]\n"
     ]
    }
   ],
   "source": [
    "for (t, ρₙ) in qme\n",
    "    println(t, ρₙ)\n",
    "end"
   ]
  },
  {
   "cell_type": "markdown",
   "metadata": {},
   "source": [
    "Things to include \n",
    "\n",
    "\n",
    "1. Other master equation\n",
    "2. mcsolve\n",
    "4. qutip interface\n",
    "6. time dependent equations\n",
    "3. expectation value\n",
    "5. more realistic example"
   ]
  },
  {
   "cell_type": "code",
   "execution_count": null,
   "metadata": {
    "collapsed": true
   },
   "outputs": [],
   "source": []
  }
 ],
 "metadata": {
  "kernelspec": {
   "display_name": "Julia 0.4.1",
   "language": "julia",
   "name": "julia-0.4"
  },
  "language_info": {
   "file_extension": ".jl",
   "mimetype": "application/julia",
   "name": "julia",
   "version": "0.4.1"
  }
 },
 "nbformat": 4,
 "nbformat_minor": 0
}
