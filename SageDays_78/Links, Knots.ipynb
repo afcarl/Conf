{
 "cells": [
  {
   "cell_type": "markdown",
   "metadata": {},
   "source": [
    "## Knots (Links) in Sage"
   ]
  },
  {
   "cell_type": "markdown",
   "metadata": {
    "collapsed": false
   },
   "source": [
    "The presentation is aimed at introducing various constructs used in Knot Theory module in Sage. The main aim is to introduce the following :\n",
    "    \n",
    "* Input a Knot/Link Structure\n",
    "* Differentiate between various Knot/Link structures using various invariants."
   ]
  },
  {
   "cell_type": "markdown",
   "metadata": {},
   "source": [
    "-----"
   ]
  },
  {
   "cell_type": "markdown",
   "metadata": {},
   "source": [
    "### Definitions :\n",
    "         \n",
    "To begin with we define `Knot` and `Link` \n",
    "\n",
    "<style TYPE=\"text/css\">\n",
    "code.has-jax {font: inherit; font-size: 100%; background: inherit; border: inherit;}\n",
    "</style>\n",
    "<script type=\"text/x-mathjax-config\">\n",
    "MathJax.Hub.Config({\n",
    "    tex2jax: {\n",
    "        inlineMath: [['$','$'], ['\\\\(','\\\\)']],\n",
    "        skipTags: ['script', 'noscript', 'style', 'textarea', 'pre'] // removed 'code' entry\n",
    "    }\n",
    "});\n",
    "MathJax.Hub.Queue(function() {\n",
    "    var all = MathJax.Hub.getAllJax(), i;\n",
    "    for(i = 0; i < all.length; i += 1) {\n",
    "        all[i].SourceElement().parentNode.className += ' has-jax';\n",
    "    }\n",
    "});\n",
    "</script>\n",
    "<script type=\"text/javascript\" src=\"http://cdn.mathjax.org/mathjax/latest/MathJax.js?config=TeX-AMS-MML_HTMLorMML\"></script>\n",
    "\n",
    "\n",
    "__**Knot**__: \n",
    "\n",
    "A **`knot`** is defined as embedding of the circle $\\mathbb{S}^1$ in the 3-dimensional sphere $\\mathbb{S}^3$, considered up to ambient isotopy. They represent the physical idea of a knotted rope, but with the particularity that the rope is closed. That is, the ends of the rope are joined.\n",
    "\n",
    "__**Link**__:\n",
    "\n",
    "\n",
    "A **`link`** is an embedding of one or more copies of $\\mathbb{S}^1$ in $\\mathbb{S}^3$, considered up to ambient isotopy. That is, a link represents the idea of one or more tied ropes. **Every knot is a link, but not every link is a knot.**  "
   ]
  },
  {
   "cell_type": "markdown",
   "metadata": {},
   "source": [
    "-----"
   ]
  },
  {
   "cell_type": "markdown",
   "metadata": {},
   "source": [
    "### Various representations in Sage\n",
    "\n",
    "There are different ways to represent a Link. The main representations which Sage understands are the following :\n",
    "\n",
    "* Braid representation of the Link\n",
    "* Oriented Gauss Code\n",
    "* Planar Diagram Code or PD Code\n",
    "\n",
    "These are internally recognized by Sage, all the user needs to do is input in one of the above representations.\n",
    "\n",
    "----- "
   ]
  },
  {
   "cell_type": "markdown",
   "metadata": {},
   "source": [
    "Let us start by looking at Braid Group (Braidword representation) of the Link.\n",
    "\n",
    "<style TYPE=\"text/css\">\n",
    "code.has-jax {font: inherit; font-size: 100%; background: inherit; border: inherit;}\n",
    "</style>\n",
    "<script type=\"text/x-mathjax-config\">\n",
    "MathJax.Hub.Config({\n",
    "    tex2jax: {\n",
    "        inlineMath: [['$','$'], ['\\\\(','\\\\)']],\n",
    "        skipTags: ['script', 'noscript', 'style', 'textarea', 'pre'] // removed 'code' entry\n",
    "    }\n",
    "});\n",
    "MathJax.Hub.Queue(function() {\n",
    "    var all = MathJax.Hub.getAllJax(), i;\n",
    "    for(i = 0; i < all.length; i += 1) {\n",
    "        all[i].SourceElement().parentNode.className += ' has-jax';\n",
    "    }\n",
    "});\n",
    "</script>\n",
    "<script type=\"text/javascript\" src=\"http://cdn.mathjax.org/mathjax/latest/MathJax.js?config=TeX-AMS-MML_HTMLorMML\"></script>\n",
    "\n",
    "#### Braid group to Braidword representation\n",
    "\n",
    "Consider a `1 x 1 x 1` cube. On the planes `z = 0` and `z = 1`, at `x = 1/2` consider `n` points varying `y`. Join the `n` points on both the planes, with the rules being : \n",
    "\n",
    "* There is a bijective map between the points, implying every point has to be mapped to unique point on the other plane. \n",
    "* The points are joined by non intersecting arcs lying completely inside the cube.\n",
    "\n",
    "For example, see [sage-worksheet](https://cloud.sagemath.com/projects/5ef29c3a-8155-4461-a864-3a030f11b446/files/Knots_Sage/Knots.sagews)\n",
    "\n",
    "With reference to the above example, there are 3 points on the both the planes and we join them using arcs. \n",
    "<pre><code class=\"python\">\n",
    "# `BraidGroup` is being called with the number of strings\n",
    "B = BraidGroup(3)\n",
    "B1 = B([1,2])\n",
    "\n",
    "</pre>\n",
    "\n",
    "To define a Braid Group, consider the set $B$, of all braid diagrams as above. Define the composition of the diagrams as stacking them together vertically. \n",
    "\n",
    "* Closure is defined as the stacking of diagrams and this diagram is again in the set $B$ \n",
    "* Consider three different diagrams, say labelled by $1, 2, 3$, stacking $1$ with $2$ and then with $3$ is same as stacking $2$ with $3$ and stacking the resultant with $1$.\n",
    "* The identity from the set is the following, label the points on `z = 0` plane by $a, b, c ....$ and `z = 1` plane by $a', b', c' ....$ connect $i$ to corresponding $i'$. The diagram obtained is the identity of the group.\n",
    "* For every given braid diagram $b$, we can always find a diagram $b'$ in $B$ such that $b \\circ b'$ to obtain the identity as mentioned above.\n",
    "\n",
    "Therefore, the set $B$ forms a group.\n"
   ]
  },
  {
   "cell_type": "markdown",
   "metadata": {},
   "source": [
    "###### Generators of group $B$\n",
    "\n",
    "Now we look at the generators $\\sigma_{i}$ of group $B$ which help in understanding the braidword construction. As above consider the points on the plane `z = 0` and `z = 1`, let us label the points on the plane `z = 0` as $P_{i}^{0}$ and on `z = 1` as $P_{i}^{1}$, where $i \\in \\{1, 2, 3, ...., n\\}$. The generators $\\sigma_{i}$ of group $B$, are the following braid diagrams : \n",
    "\n",
    "Join $P_{i}^{0}$ to $P_{i+1}^{1}$ and $P_{i+1}^{0}$ to $P_{i}^{1}$ and $P_{j}^{0}$ goes to $P_{j}^{1}$, $\\forall j \\neq i$. If we stare at the generators there are two ways in which we can join, i.e., either the arc joining $P_{i}^{0}$ to $P_{i}^{0}$ to $P_{i+1}^{1}$ is _above_ $P_{i+1}^{0}$ to $P_{i}^{1}$, say $\\sigma_{i}$ or the other way round $\\sigma_{i}^{-1}$. It is very easy to generate all the diagrams from these generators. Projecting these 3d curves into a 2d planes, gives an insight into **overcrossing** and **undercrossing**, for example [sage-worksheet](https://cloud.sagemath.com/projects/5ef29c3a-8155-4461-a864-3a030f11b446/files/Knots.sagews). For example, the underlying braidword is $1, 2$ for the above diagram indicating that we join $1$ to $2'$ with an over curve and $2$ to $3'$ again with an over curve.\n",
    "\n",
    "The way a **$Link$** can be constructed from the braidword is by joining the points in the planes `z = 0` and `z = 1` by a curve which lies outside the cube. Therefore, we can construct a Link by closure of the braidword, and so one of the inputs for the Link construct which Sage understands is a braidword.  "
   ]
  },
  {
   "cell_type": "code",
   "execution_count": 1,
   "metadata": {
    "collapsed": false
   },
   "outputs": [],
   "source": [
    "B = BraidGroup(3)"
   ]
  },
  {
   "cell_type": "code",
   "execution_count": 2,
   "metadata": {
    "collapsed": false
   },
   "outputs": [],
   "source": [
    "# creating a Link out of the braid\n",
    "L = Link(B([1,1,-2,1]))"
   ]
  },
  {
   "cell_type": "code",
   "execution_count": 3,
   "metadata": {
    "collapsed": false
   },
   "outputs": [
    {
     "data": {
      "text/plain": [
       "Link with 1 component represented by 4 crossings"
      ]
     },
     "execution_count": 3,
     "metadata": {},
     "output_type": "execute_result"
    }
   ],
   "source": [
    "L"
   ]
  },
  {
   "cell_type": "code",
   "execution_count": 4,
   "metadata": {
    "collapsed": false
   },
   "outputs": [
    {
     "data": {
      "text/plain": [
       "True"
      ]
     },
     "execution_count": 4,
     "metadata": {},
     "output_type": "execute_result"
    }
   ],
   "source": [
    "L.is_knot()"
   ]
  },
  {
   "cell_type": "code",
   "execution_count": 5,
   "metadata": {
    "collapsed": false
   },
   "outputs": [
    {
     "data": {
      "image/png": "[encoded data removed]",
      "text/plain": [
       "Graphics object consisting of 16 graphics primitives"
      ]
     },
     "execution_count": 5,
     "metadata": {},
     "output_type": "execute_result"
    }
   ],
   "source": [
    "L._braid.plot()"
   ]
  },
  {
   "cell_type": "code",
   "execution_count": 6,
   "metadata": {
    "collapsed": false
   },
   "outputs": [
    {
     "data": {
      "image/png": "[encoded data removed]",
      "text/plain": [
       "Graphics object consisting of 17 graphics primitives"
      ]
     },
     "execution_count": 6,
     "metadata": {},
     "output_type": "execute_result"
    }
   ],
   "source": [
    "L.plot()"
   ]
  },
  {
   "cell_type": "markdown",
   "metadata": {},
   "source": [
    "----"
   ]
  },
  {
   "cell_type": "markdown",
   "metadata": {},
   "source": [
    "#### Oriented Gauss Code, Planar Diagram Code\n",
    "\n",
    "Though braidword representation looks as a simple technique to study Links, given a Link it is not straight forward to see it as a braid closure and deduce the braidword representation of the Link. We look at two different representations that is the oriented gauss code and planar diagram code. \n",
    "\n",
    "###### Oriented Gauss Code :\n",
    "\n",
    "In order to deduce the oriented gauss code, we will number the crossings along with a sign, that is if it is a _undercrossing_ we would add a **\" - \"** in the front of the crossing as we move along the Link until we return to the starting point, as well assign a `+1` or `-1` to each of the crossing. Crossings are labelled as `+1` and `-1` using the following notation : \n",
    "<img src=\"files/oriented_gauss_code.png\">\n",
    "For example consider the trefoil which looks as follows : \n",
    "<img src=\"files/trefoil.png\">\n",
    "Using the above rules, the sign at each of the crossing would be -1. The oriented gauss code would be [[[1, -2, 3, -1, 2, -3]],[-1, -1, -1]]"
   ]
  },
  {
   "cell_type": "code",
   "execution_count": 7,
   "metadata": {
    "collapsed": false
   },
   "outputs": [],
   "source": [
    "# there are two lists one for the crossings which is a list of lists, the other for the sign of the crossings.\n",
    "L1 = Link([[[1, -2, 3, -1, 2, -3]],[-1, -1, -1]])"
   ]
  },
  {
   "cell_type": "code",
   "execution_count": 8,
   "metadata": {
    "collapsed": false
   },
   "outputs": [
    {
     "data": {
      "text/plain": [
       "Link with 1 component represented by 3 crossings"
      ]
     },
     "execution_count": 8,
     "metadata": {},
     "output_type": "execute_result"
    }
   ],
   "source": [
    "L1"
   ]
  },
  {
   "cell_type": "markdown",
   "metadata": {},
   "source": [
    "Sage also allows intercoversion between different input formats. We can intercovert between braidword, oriented gauss code, planar diagram code. As we have still not defined the planar diagram code let us convert this input to braidword."
   ]
  },
  {
   "cell_type": "code",
   "execution_count": 9,
   "metadata": {
    "collapsed": false
   },
   "outputs": [
    {
     "data": {
      "text/plain": [
       "s^-3"
      ]
     },
     "execution_count": 9,
     "metadata": {},
     "output_type": "execute_result"
    }
   ],
   "source": [
    "L1.braid()"
   ]
  },
  {
   "cell_type": "code",
   "execution_count": 10,
   "metadata": {
    "collapsed": false
   },
   "outputs": [
    {
     "data": {
      "text/plain": [
       "(-1, -1, -1)"
      ]
     },
     "execution_count": 10,
     "metadata": {},
     "output_type": "execute_result"
    }
   ],
   "source": [
    "L1.braid().Tietze()"
   ]
  },
  {
   "cell_type": "code",
   "execution_count": 11,
   "metadata": {
    "collapsed": false
   },
   "outputs": [
    {
     "data": {
      "image/png": "[encoded data removed]",
      "text/plain": [
       "Graphics object consisting of 14 graphics primitives"
      ]
     },
     "execution_count": 11,
     "metadata": {},
     "output_type": "execute_result"
    }
   ],
   "source": [
    "L1.plot()"
   ]
  },
  {
   "cell_type": "markdown",
   "metadata": {},
   "source": [
    "Lets reverse engineer, let us see if we end up with the same results, starting with the braid and obtaining the oriented gauss code and therefore the same diagram"
   ]
  },
  {
   "cell_type": "code",
   "execution_count": 12,
   "metadata": {
    "collapsed": true
   },
   "outputs": [],
   "source": [
    "b1 = L1.braid()"
   ]
  },
  {
   "cell_type": "code",
   "execution_count": 13,
   "metadata": {
    "collapsed": true
   },
   "outputs": [],
   "source": [
    "L1_reconstruct = Link(b1)"
   ]
  },
  {
   "cell_type": "code",
   "execution_count": 14,
   "metadata": {
    "collapsed": false
   },
   "outputs": [
    {
     "data": {
      "text/plain": [
       "Link with 1 component represented by 3 crossings"
      ]
     },
     "execution_count": 14,
     "metadata": {},
     "output_type": "execute_result"
    }
   ],
   "source": [
    "L1_reconstruct"
   ]
  },
  {
   "cell_type": "code",
   "execution_count": 15,
   "metadata": {
    "collapsed": false
   },
   "outputs": [
    {
     "data": {
      "text/plain": [
       "[[[-1, 2, -3, 1, -2, 3]], [-1, -1, -1]]"
      ]
     },
     "execution_count": 15,
     "metadata": {},
     "output_type": "execute_result"
    }
   ],
   "source": [
    "L1_reconstruct.oriented_gauss_code()"
   ]
  },
  {
   "cell_type": "code",
   "execution_count": 16,
   "metadata": {
    "collapsed": false
   },
   "outputs": [
    {
     "data": {
      "image/png": "[encoded data removed]",
      "text/plain": [
       "Graphics object consisting of 14 graphics primitives"
      ]
     },
     "execution_count": 16,
     "metadata": {},
     "output_type": "execute_result"
    }
   ],
   "source": [
    "L1_reconstruct.plot()"
   ]
  },
  {
   "cell_type": "markdown",
   "metadata": {},
   "source": [
    "###### Planar Diagram Code\n",
    "\n",
    "Finally we introduce the least complicated notation, that is the planar diagram code (pd code). This is constructed in the following way, start with a point on the Link identify this part of the link with a number and keep moving along the Link, once we encounter a crossing just increment the number to the part following the crossing. Once all the parts on the Link are covered, each crossing has 4 numbers associated to it. Each crossing is identified by starting with the undercrossing component and moving in the clockwise direction. For example consider the above trefoil\n",
    "<img src=\"files/trefoil_pd.png\"> \n",
    "The planar diagram code looks as [[4, 2, 5, 1], [2, 6, 3, 5], [6, 4, 1, 3]]"
   ]
  },
  {
   "cell_type": "code",
   "execution_count": 17,
   "metadata": {
    "collapsed": true
   },
   "outputs": [],
   "source": [
    "L1_pd = Link([[4, 2, 5, 1], [2, 6, 3, 5], [6, 4, 1, 3]])"
   ]
  },
  {
   "cell_type": "code",
   "execution_count": 18,
   "metadata": {
    "collapsed": false
   },
   "outputs": [
    {
     "data": {
      "text/plain": [
       "[[[1, -2, 3, -1, 2, -3]], [-1, -1, -1]]"
      ]
     },
     "execution_count": 18,
     "metadata": {},
     "output_type": "execute_result"
    }
   ],
   "source": [
    "L1_pd.oriented_gauss_code()"
   ]
  },
  {
   "cell_type": "code",
   "execution_count": 19,
   "metadata": {
    "collapsed": false
   },
   "outputs": [
    {
     "data": {
      "text/plain": [
       "s^-3"
      ]
     },
     "execution_count": 19,
     "metadata": {},
     "output_type": "execute_result"
    }
   ],
   "source": [
    "L1_pd.braid()"
   ]
  },
  {
   "cell_type": "code",
   "execution_count": 20,
   "metadata": {
    "collapsed": false
   },
   "outputs": [
    {
     "data": {
      "text/plain": [
       "(-1, -1, -1)"
      ]
     },
     "execution_count": 20,
     "metadata": {},
     "output_type": "execute_result"
    }
   ],
   "source": [
    "L1_pd.braid().Tietze()"
   ]
  },
  {
   "cell_type": "code",
   "execution_count": 21,
   "metadata": {
    "collapsed": false
   },
   "outputs": [
    {
     "data": {
      "image/png": "[encoded data removed]",
      "text/plain": [
       "Graphics object consisting of 14 graphics primitives"
      ]
     },
     "execution_count": 21,
     "metadata": {},
     "output_type": "execute_result"
    }
   ],
   "source": [
    "L1_pd.plot()"
   ]
  },
  {
   "cell_type": "markdown",
   "metadata": {},
   "source": [
    "We also look at `Seifert circles` and `Regions` as these are used in various alogrithms like interconversion between planar diagram code to braidword construction, in construction of jones polynomial."
   ]
  },
  {
   "cell_type": "code",
   "execution_count": 22,
   "metadata": {
    "collapsed": false
   },
   "outputs": [
    {
     "data": {
      "text/plain": [
       "[[1, 5, 3], [2, 6, 4]]"
      ]
     },
     "execution_count": 22,
     "metadata": {},
     "output_type": "execute_result"
    }
   ],
   "source": [
    "L1_pd.seifert_circles()"
   ]
  },
  {
   "cell_type": "code",
   "execution_count": 23,
   "metadata": {
    "collapsed": false
   },
   "outputs": [
    {
     "data": {
      "text/plain": [
       "[[1, -4], [2, 6, 4], [3, -6], [5, -2], [-5, -1, -3]]"
      ]
     },
     "execution_count": 23,
     "metadata": {},
     "output_type": "execute_result"
    }
   ],
   "source": [
    "L1_pd.regions()"
   ]
  },
  {
   "cell_type": "markdown",
   "metadata": {
    "collapsed": true
   },
   "source": [
    "Therefore for the trefoil, as expected we get the same braidword representation [-1, -1, -1] whether we start with oriented gauss code or planar diagram code. This leads us to an interesting question, given two Links how can we say whether they are the same or not, it is not always possible to stare at the diagram and conclude whether the links are identical. So we look at other invariants which help in distinguishing various Links/Knots. Before we do that let us examine the above notations for a more general Link.\n",
    "\n",
    "-----------------"
   ]
  },
  {
   "cell_type": "markdown",
   "metadata": {},
   "source": [
    "###### Some more examples \n",
    "\n",
    "Consider the following link diagrams :\n",
    "<img src=\"files/link_ogc.png\">,  <img src=\"files/link_pd.png\">"
   ]
  },
  {
   "cell_type": "code",
   "execution_count": 24,
   "metadata": {
    "collapsed": true
   },
   "outputs": [],
   "source": [
    "# planar diagram input\n",
    "L2_pd = Link([[1, 8, 2, 7], [5, 3, 6, 2], [3, 9, 4, 10],[8, 4, 9, 5],[10, 1, 7, 6]])"
   ]
  },
  {
   "cell_type": "code",
   "execution_count": 25,
   "metadata": {
    "collapsed": false
   },
   "outputs": [],
   "source": [
    "# oriented gauss code input\n",
    "L2_ogc = Link([[[-1, 2, -3, 4, -2, 5],[1, -4, 3, -5]],[-1, -1, 1, 1, -1]])"
   ]
  },
  {
   "cell_type": "code",
   "execution_count": 26,
   "metadata": {
    "collapsed": false
   },
   "outputs": [
    {
     "data": {
      "text/plain": [
       "True"
      ]
     },
     "execution_count": 26,
     "metadata": {},
     "output_type": "execute_result"
    }
   ],
   "source": [
    "# both are different representations of the same link\n",
    "L2_pd == L2_ogc"
   ]
  },
  {
   "cell_type": "code",
   "execution_count": 27,
   "metadata": {
    "collapsed": false
   },
   "outputs": [
    {
     "data": {
      "text/plain": [
       "False"
      ]
     },
     "execution_count": 27,
     "metadata": {},
     "output_type": "execute_result"
    }
   ],
   "source": [
    "# is_knot checks if the link is a knot\n",
    "L2_pd.is_knot()"
   ]
  },
  {
   "cell_type": "code",
   "execution_count": 28,
   "metadata": {
    "collapsed": false
   },
   "outputs": [
    {
     "data": {
      "text/plain": [
       "2"
      ]
     },
     "execution_count": 28,
     "metadata": {},
     "output_type": "execute_result"
    }
   ],
   "source": [
    "# the number of distinct components in a link\n",
    "L2_pd.number_of_components()"
   ]
  },
  {
   "cell_type": "code",
   "execution_count": 29,
   "metadata": {
    "collapsed": false
   },
   "outputs": [
    {
     "data": {
      "text/plain": [
       "False"
      ]
     },
     "execution_count": 29,
     "metadata": {},
     "output_type": "execute_result"
    }
   ],
   "source": [
    "# valid only for knots, looks at the sign associated with the knot\n",
    "L2_ogc.is_alternating()"
   ]
  },
  {
   "cell_type": "code",
   "execution_count": 30,
   "metadata": {
    "collapsed": false
   },
   "outputs": [
    {
     "data": {
      "text/plain": [
       "(1, -2, -2, 1, -2)"
      ]
     },
     "execution_count": 30,
     "metadata": {},
     "output_type": "execute_result"
    }
   ],
   "source": [
    "# planar diagram to braidword representation \n",
    "L2_pd.braid().Tietze()"
   ]
  },
  {
   "cell_type": "code",
   "execution_count": 31,
   "metadata": {
    "collapsed": false
   },
   "outputs": [
    {
     "data": {
      "text/plain": [
       "[[[1, -4, 3, -5], [-1, 2, -3, 4, -2, 5]], [-1, -1, 1, 1, -1]]"
      ]
     },
     "execution_count": 31,
     "metadata": {},
     "output_type": "execute_result"
    }
   ],
   "source": [
    "# planar diagram to oriented gauss code conversion representation\n",
    "L2_pd.oriented_gauss_code()"
   ]
  },
  {
   "cell_type": "code",
   "execution_count": 32,
   "metadata": {
    "collapsed": false
   },
   "outputs": [
    {
     "data": {
      "text/plain": [
       "(1, -2, -2, 1, -2)"
      ]
     },
     "execution_count": 32,
     "metadata": {},
     "output_type": "execute_result"
    }
   ],
   "source": [
    "# oriented gauss code to braidword representation\n",
    "L2_ogc.braid().Tietze()"
   ]
  },
  {
   "cell_type": "code",
   "execution_count": 33,
   "metadata": {
    "collapsed": false
   },
   "outputs": [
    {
     "data": {
      "text/plain": [
       "[[1, 8, 2, 7], [5, 3, 6, 2], [3, 9, 4, 10], [8, 4, 9, 5], [10, 1, 7, 6]]"
      ]
     },
     "execution_count": 33,
     "metadata": {},
     "output_type": "execute_result"
    }
   ],
   "source": [
    "# oriented gauss code to planar diagram representation\n",
    "L2_ogc.pd_code()"
   ]
  },
  {
   "cell_type": "code",
   "execution_count": 34,
   "metadata": {
    "collapsed": false
   },
   "outputs": [
    {
     "data": {
      "image/png": "[encoded data removed]",
      "text/plain": [
       "Graphics object consisting of 22 graphics primitives"
      ]
     },
     "execution_count": 34,
     "metadata": {},
     "output_type": "execute_result"
    }
   ],
   "source": [
    "# plotting the planar diagram code\n",
    "L2_pd.plot()"
   ]
  },
  {
   "cell_type": "code",
   "execution_count": 35,
   "metadata": {
    "collapsed": false
   },
   "outputs": [
    {
     "data": {
      "image/png": "[encoded data removed]",
      "text/plain": [
       "Graphics object consisting of 22 graphics primitives"
      ]
     },
     "execution_count": 35,
     "metadata": {},
     "output_type": "execute_result"
    }
   ],
   "source": [
    "# plotting the oriented gauss code\n",
    "L2_ogc.plot()"
   ]
  },
  {
   "cell_type": "code",
   "execution_count": 36,
   "metadata": {
    "collapsed": false
   },
   "outputs": [
    {
     "data": {
      "text/plain": [
       "[[1, 8, 5, 3, 10], [2, 6, 7], [4, 9]]"
      ]
     },
     "execution_count": 36,
     "metadata": {},
     "output_type": "execute_result"
    }
   ],
   "source": [
    "L2_pd.seifert_circles()"
   ]
  },
  {
   "cell_type": "code",
   "execution_count": 37,
   "metadata": {
    "collapsed": false
   },
   "outputs": [
    {
     "data": {
      "text/plain": [
       "[[1, 8, -4, 10],\n",
       " [2, -5, -8],\n",
       " [3, -9, 5],\n",
       " [4, 9],\n",
       " [6, -10, -3],\n",
       " [7, -1],\n",
       " [-2, -7, -6]]"
      ]
     },
     "execution_count": 37,
     "metadata": {},
     "output_type": "execute_result"
    }
   ],
   "source": [
    "L2_pd.regions()"
   ]
  },
  {
   "cell_type": "markdown",
   "metadata": {},
   "source": [
    "#### Link Invariants \n",
    "\n",
    "We return to the question of how we distinguish various Links given the Link configurations (Planar Diagram Code, Oriented Gauss Code, Braidword representation). Link module allows the computation of the following invariants : \n",
    "\n",
    "* Alexander polynomial\n",
    "* Jones polynomial\n",
    "* Khovanov Homology \n",
    "* HOMFLY polynomial (external library interfacing)"
   ]
  },
  {
   "cell_type": "markdown",
   "metadata": {
    "collapsed": true
   },
   "source": [
    "Consider the following versions of trefoils, basically the difference is changing the orientation of the crossings from **-1** at every crossing to **+1**.\n",
    "<img src=\"files/trefoils.png\">"
   ]
  },
  {
   "cell_type": "code",
   "execution_count": 38,
   "metadata": {
    "collapsed": false
   },
   "outputs": [
    {
     "data": {
      "text/plain": [
       "Link with 1 component represented by 3 crossings"
      ]
     },
     "execution_count": 38,
     "metadata": {},
     "output_type": "execute_result"
    }
   ],
   "source": [
    "L_left = Link([[[1, -2, 3, -1, 2, -3]],[-1, -1, -1]])\n",
    "L_left"
   ]
  },
  {
   "cell_type": "code",
   "execution_count": 39,
   "metadata": {
    "collapsed": false
   },
   "outputs": [
    {
     "data": {
      "text/plain": [
       "Link with 1 component represented by 3 crossings"
      ]
     },
     "execution_count": 39,
     "metadata": {},
     "output_type": "execute_result"
    }
   ],
   "source": [
    "L_right = Link([[[1, -2, 3, -1, 2, -3]],[1, 1, 1]])\n",
    "L_right"
   ]
  },
  {
   "cell_type": "code",
   "execution_count": 40,
   "metadata": {
    "collapsed": false
   },
   "outputs": [
    {
     "data": {
      "text/plain": [
       "(-1, -1, -1)"
      ]
     },
     "execution_count": 40,
     "metadata": {},
     "output_type": "execute_result"
    }
   ],
   "source": [
    "L_left.braid().Tietze()"
   ]
  },
  {
   "cell_type": "code",
   "execution_count": 41,
   "metadata": {
    "collapsed": false
   },
   "outputs": [
    {
     "data": {
      "text/plain": [
       "(1, 1, 1)"
      ]
     },
     "execution_count": 41,
     "metadata": {},
     "output_type": "execute_result"
    }
   ],
   "source": [
    "L_right.braid().Tietze()"
   ]
  },
  {
   "cell_type": "code",
   "execution_count": 42,
   "metadata": {
    "collapsed": false
   },
   "outputs": [
    {
     "data": {
      "text/plain": [
       "[[1, 5, 3], [2, 6, 4]]"
      ]
     },
     "execution_count": 42,
     "metadata": {},
     "output_type": "execute_result"
    }
   ],
   "source": [
    "L_left.seifert_circles()"
   ]
  },
  {
   "cell_type": "code",
   "execution_count": 43,
   "metadata": {
    "collapsed": false
   },
   "outputs": [
    {
     "data": {
      "text/plain": [
       "[[1, 5, 3], [2, 6, 4]]"
      ]
     },
     "execution_count": 43,
     "metadata": {},
     "output_type": "execute_result"
    }
   ],
   "source": [
    "L_right.seifert_circles()"
   ]
  },
  {
   "cell_type": "code",
   "execution_count": 44,
   "metadata": {
    "collapsed": false
   },
   "outputs": [
    {
     "data": {
      "text/plain": [
       "[[1, -4], [2, 6, 4], [3, -6], [5, -2], [-5, -1, -3]]"
      ]
     },
     "execution_count": 44,
     "metadata": {},
     "output_type": "execute_result"
    }
   ],
   "source": [
    "L_left.regions()"
   ]
  },
  {
   "cell_type": "code",
   "execution_count": 45,
   "metadata": {
    "collapsed": false
   },
   "outputs": [
    {
     "data": {
      "text/plain": [
       "[[1, 5, 3], [2, -5], [4, -1], [6, -3], [-2, -4, -6]]"
      ]
     },
     "execution_count": 45,
     "metadata": {},
     "output_type": "execute_result"
    }
   ],
   "source": [
    "L_right.regions()"
   ]
  },
  {
   "cell_type": "code",
   "execution_count": 46,
   "metadata": {
    "collapsed": false
   },
   "outputs": [
    {
     "data": {
      "text/plain": [
       "[ 1 -1]\n",
       "[ 0  1]"
      ]
     },
     "execution_count": 46,
     "metadata": {},
     "output_type": "execute_result"
    }
   ],
   "source": [
    "L_left.seifert_matrix()"
   ]
  },
  {
   "cell_type": "code",
   "execution_count": 47,
   "metadata": {
    "collapsed": false
   },
   "outputs": [
    {
     "data": {
      "text/plain": [
       "[-1  0]\n",
       "[ 1 -1]"
      ]
     },
     "execution_count": 47,
     "metadata": {},
     "output_type": "execute_result"
    }
   ],
   "source": [
    "L_right.seifert_matrix()"
   ]
  },
  {
   "cell_type": "code",
   "execution_count": 48,
   "metadata": {
    "collapsed": false
   },
   "outputs": [
    {
     "data": {
      "text/plain": [
       "(3, 3)"
      ]
     },
     "execution_count": 48,
     "metadata": {},
     "output_type": "execute_result"
    }
   ],
   "source": [
    "L_left.determinant(), L_right.determinant()"
   ]
  },
  {
   "cell_type": "code",
   "execution_count": 49,
   "metadata": {
    "collapsed": false
   },
   "outputs": [
    {
     "data": {
      "text/plain": [
       "(-3, 3)"
      ]
     },
     "execution_count": 49,
     "metadata": {},
     "output_type": "execute_result"
    }
   ],
   "source": [
    "L_left.writhe(), L_right.writhe()"
   ]
  },
  {
   "cell_type": "code",
   "execution_count": 50,
   "metadata": {
    "collapsed": false
   },
   "outputs": [
    {
     "data": {
      "text/plain": [
       "(t^-1 - 1 + t, t^-1 - 1 + t)"
      ]
     },
     "execution_count": 50,
     "metadata": {},
     "output_type": "execute_result"
    }
   ],
   "source": [
    "L_left.alexander_polynomial(), L_right.alexander_polynomial()"
   ]
  },
  {
   "cell_type": "code",
   "execution_count": 51,
   "metadata": {
    "collapsed": false
   },
   "outputs": [
    {
     "data": {
      "text/plain": [
       "(1/t + 1/t^3 - 1/t^4, -t^4 + t^3 + t)"
      ]
     },
     "execution_count": 51,
     "metadata": {},
     "output_type": "execute_result"
    }
   ],
   "source": [
    "L_left.jones_polynomial(), L_right.jones_polynomial()"
   ]
  },
  {
   "cell_type": "markdown",
   "metadata": {},
   "source": [
    "Consider the following knots `K1` and `K2`given by the following figure: \n",
    "<img src=\"files/K1_K2_named.png\">\n",
    "with reference to the following site : http://math.stackexchange.com/questions/1303743/is-there-a-one-to-one-correspondence-between-jones-polynomials-and-knots/1303960"
   ]
  },
  {
   "cell_type": "code",
   "execution_count": 61,
   "metadata": {
    "collapsed": false
   },
   "outputs": [
    {
     "data": {
      "text/plain": [
       "Knot represented by 8 crossings"
      ]
     },
     "execution_count": 61,
     "metadata": {},
     "output_type": "execute_result"
    }
   ],
   "source": [
    "K1 = Knot([[[1, -2, 3, -4, 2, -1, -5, 6, -7, 8, -6, 5, -8, 7, 4, -3]],[1, 1, -1, -1, -1, -1, 1, 1]])\n",
    "K1"
   ]
  },
  {
   "cell_type": "code",
   "execution_count": 62,
   "metadata": {
    "collapsed": false
   },
   "outputs": [
    {
     "data": {
      "text/plain": [
       "Knot represented by 8 crossings"
      ]
     },
     "execution_count": 62,
     "metadata": {},
     "output_type": "execute_result"
    }
   ],
   "source": [
    "K2 = Knot([[[1, -2, 3, -4, 5, -6, 7, -8, 4, -1, 2, -3, 8, -5, 6, -7]],[-1, -1, -1, -1, 1, 1, 1, 1]])\n",
    "K2"
   ]
  },
  {
   "cell_type": "code",
   "execution_count": 67,
   "metadata": {
    "collapsed": false
   },
   "outputs": [
    {
     "data": {
      "text/plain": [
       "False"
      ]
     },
     "execution_count": 67,
     "metadata": {},
     "output_type": "execute_result"
    }
   ],
   "source": [
    "K1 == K2"
   ]
  },
  {
   "cell_type": "code",
   "execution_count": 63,
   "metadata": {
    "collapsed": false
   },
   "outputs": [
    {
     "data": {
      "text/plain": [
       "t^-2 - 6*t^-1 + 11 - 6*t + t^2"
      ]
     },
     "execution_count": 63,
     "metadata": {},
     "output_type": "execute_result"
    }
   ],
   "source": [
    "K1.alexander_polynomial()"
   ]
  },
  {
   "cell_type": "code",
   "execution_count": 64,
   "metadata": {
    "collapsed": false
   },
   "outputs": [
    {
     "data": {
      "text/plain": [
       "t^4 - 2*t^3 + 3*t^2 - 4*t - 4/t + 3/t^2 - 2/t^3 + 1/t^4 + 5"
      ]
     },
     "execution_count": 64,
     "metadata": {},
     "output_type": "execute_result"
    }
   ],
   "source": [
    "K1.jones_polynomial()"
   ]
  },
  {
   "cell_type": "code",
   "execution_count": 65,
   "metadata": {
    "collapsed": false
   },
   "outputs": [
    {
     "data": {
      "text/plain": [
       "-t^-3 + 3*t^-2 - 5*t^-1 + 7 - 5*t + 3*t^2 - t^3"
      ]
     },
     "execution_count": 65,
     "metadata": {},
     "output_type": "execute_result"
    }
   ],
   "source": [
    "K2.alexander_polynomial()"
   ]
  },
  {
   "cell_type": "code",
   "execution_count": 66,
   "metadata": {
    "collapsed": false
   },
   "outputs": [
    {
     "data": {
      "text/plain": [
       "t^4 - 2*t^3 + 3*t^2 - 4*t - 4/t + 3/t^2 - 2/t^3 + 1/t^4 + 5"
      ]
     },
     "execution_count": 66,
     "metadata": {},
     "output_type": "execute_result"
    }
   ],
   "source": [
    "K2.jones_polynomial()"
   ]
  },
  {
   "cell_type": "code",
   "execution_count": 68,
   "metadata": {
    "collapsed": false
   },
   "outputs": [
    {
     "data": {
      "text/plain": [
       "x^2 - 6*x - 6/x + 1/x^2 + 11"
      ]
     },
     "execution_count": 68,
     "metadata": {},
     "output_type": "execute_result"
    }
   ],
   "source": [
    "x = var('x')\n",
    "eqn = (x^-1 - 3 + x)^2\n",
    "eqn.expand()"
   ]
  },
  {
   "cell_type": "code",
   "execution_count": 69,
   "metadata": {
    "collapsed": false
   },
   "outputs": [
    {
     "data": {
      "text/plain": [
       "x^4 - 2*x^3 + 3*x^2 - 4*x - 4/x + 3/x^2 - 2/x^3 + 1/x^4 + 5"
      ]
     },
     "execution_count": 69,
     "metadata": {},
     "output_type": "execute_result"
    }
   ],
   "source": [
    "eqn_j = (x^-2 - x^-1 + 1 - x + x^2)^2\n",
    "eqn_j.expand()"
   ]
  },
  {
   "cell_type": "code",
   "execution_count": 70,
   "metadata": {
    "collapsed": false
   },
   "outputs": [
    {
     "data": {
      "text/plain": [
       "0"
      ]
     },
     "execution_count": 70,
     "metadata": {},
     "output_type": "execute_result"
    }
   ],
   "source": [
    "K1.arf_invariant()"
   ]
  },
  {
   "cell_type": "code",
   "execution_count": 71,
   "metadata": {
    "collapsed": false
   },
   "outputs": [
    {
     "data": {
      "text/plain": [
       "0"
      ]
     },
     "execution_count": 71,
     "metadata": {},
     "output_type": "execute_result"
    }
   ],
   "source": [
    "K2.arf_invariant()"
   ]
  },
  {
   "cell_type": "code",
   "execution_count": 74,
   "metadata": {
    "collapsed": false
   },
   "outputs": [
    {
     "data": {
      "text/plain": [
       "{-9: {-4: Z},\n",
       " -7: {-4: 0, -3: Z x C2, -2: 0},\n",
       " -5: {-4: 0, -3: Z, -2: Z x Z x C2, -1: 0, 0: 0},\n",
       " -3: {-4: 0, -3: 0, -2: Z, -1: Z x Z x C2 x C2, 0: 0, 1: 0, 2: 0},\n",
       " -1: {-4: 0,\n",
       "  -3: 0,\n",
       "  -2: 0,\n",
       "  -1: Z x Z,\n",
       "  0: Z x Z x Z x C2 x C2,\n",
       "  1: 0,\n",
       "  2: 0,\n",
       "  3: 0,\n",
       "  4: 0},\n",
       " 1: {-4: 0,\n",
       "  -3: 0,\n",
       "  -2: 0,\n",
       "  -1: 0,\n",
       "  0: Z x Z x Z,\n",
       "  1: Z x Z x C2 x C2,\n",
       "  2: 0,\n",
       "  3: 0,\n",
       "  4: 0},\n",
       " 3: {-2: 0, -1: 0, 0: 0, 1: Z x Z, 2: Z x C2 x C2, 3: 0, 4: 0},\n",
       " 5: {0: 0, 1: 0, 2: Z x Z, 3: Z x C2, 4: 0},\n",
       " 7: {2: 0, 3: Z, 4: C2},\n",
       " 9: {4: Z}}"
      ]
     },
     "execution_count": 74,
     "metadata": {},
     "output_type": "execute_result"
    }
   ],
   "source": [
    "K1.khovanov_homology()"
   ]
  },
  {
   "cell_type": "code",
   "execution_count": 75,
   "metadata": {
    "collapsed": false
   },
   "outputs": [
    {
     "data": {
      "text/plain": [
       "{-9: {-4: Z},\n",
       " -7: {-4: 0, -3: Z x C2, -2: 0, -1: 0},\n",
       " -5: {-4: 0, -3: Z, -2: Z x Z x C2, -1: 0, 0: 0, 1: 0},\n",
       " -3: {-4: 0, -3: 0, -2: Z, -1: Z x Z x C2 x C2, 0: 0, 1: 0, 2: 0},\n",
       " -1: {-4: 0,\n",
       "  -3: 0,\n",
       "  -2: 0,\n",
       "  -1: Z x Z,\n",
       "  0: Z x Z x Z x C2 x C2,\n",
       "  1: 0,\n",
       "  2: 0,\n",
       "  3: 0,\n",
       "  4: 0},\n",
       " 1: {-4: 0,\n",
       "  -3: 0,\n",
       "  -2: 0,\n",
       "  -1: 0,\n",
       "  0: Z x Z x Z,\n",
       "  1: Z x Z x C2 x C2,\n",
       "  2: 0,\n",
       "  3: 0,\n",
       "  4: 0},\n",
       " 3: {-2: 0, -1: 0, 0: 0, 1: Z x Z, 2: Z x C2 x C2, 3: 0, 4: 0},\n",
       " 5: {-1: 0, 0: 0, 1: 0, 2: Z x Z, 3: Z x C2, 4: 0},\n",
       " 7: {1: 0, 2: 0, 3: Z, 4: C2},\n",
       " 9: {4: Z}}"
      ]
     },
     "execution_count": 75,
     "metadata": {},
     "output_type": "execute_result"
    }
   ],
   "source": [
    "K2.khovanov_homology()"
   ]
  },
  {
   "cell_type": "code",
   "execution_count": 76,
   "metadata": {
    "collapsed": false
   },
   "outputs": [
    {
     "ename": "ImportError",
     "evalue": "No module named homfly",
     "output_type": "error",
     "traceback": [
      "\u001b[1;31m---------------------------------------------------------------------------\u001b[0m",
      "\u001b[1;31mImportError\u001b[0m                               Traceback (most recent call last)",
      "\u001b[1;32m<ipython-input-76-5d58394afbe7>\u001b[0m in \u001b[0;36m<module>\u001b[1;34m()\u001b[0m\n\u001b[1;32m----> 1\u001b[1;33m \u001b[0mK1\u001b[0m\u001b[1;33m.\u001b[0m\u001b[0mhomfly_polynomial\u001b[0m\u001b[1;33m(\u001b[0m\u001b[1;33m)\u001b[0m\u001b[1;33m\u001b[0m\u001b[0m\n\u001b[0m",
      "\u001b[1;32m/projects/sage/sage-dev/local/lib/python2.7/site-packages/sage/knots/link.pyc\u001b[0m in \u001b[0;36mhomfly_polynomial\u001b[1;34m(self, var1, var2, normalization)\u001b[0m\n\u001b[0;32m   2330\u001b[0m         \u001b[1;32mfor\u001b[0m \u001b[0mi\u001b[0m\u001b[1;33m,\u001b[0m \u001b[0mcr\u001b[0m \u001b[1;32min\u001b[0m \u001b[0menumerate\u001b[0m\u001b[1;33m(\u001b[0m\u001b[0mogc\u001b[0m\u001b[1;33m[\u001b[0m\u001b[1;36m1\u001b[0m\u001b[1;33m]\u001b[0m\u001b[1;33m)\u001b[0m\u001b[1;33m:\u001b[0m\u001b[1;33m\u001b[0m\u001b[0m\n\u001b[0;32m   2331\u001b[0m             \u001b[0ms\u001b[0m \u001b[1;33m+=\u001b[0m \u001b[1;34m' {} {}'\u001b[0m\u001b[1;33m.\u001b[0m\u001b[0mformat\u001b[0m\u001b[1;33m(\u001b[0m\u001b[0mi\u001b[0m\u001b[1;33m,\u001b[0m \u001b[0mcr\u001b[0m\u001b[1;33m)\u001b[0m\u001b[1;33m\u001b[0m\u001b[0m\n\u001b[1;32m-> 2332\u001b[1;33m         \u001b[1;32mfrom\u001b[0m \u001b[0msage\u001b[0m\u001b[1;33m.\u001b[0m\u001b[0mlibs\u001b[0m\u001b[1;33m.\u001b[0m\u001b[0mhomfly\u001b[0m \u001b[1;32mimport\u001b[0m \u001b[0mhomfly_polynomial_dict\u001b[0m\u001b[1;33m\u001b[0m\u001b[0m\n\u001b[0m\u001b[0;32m   2333\u001b[0m         \u001b[0mdic\u001b[0m \u001b[1;33m=\u001b[0m \u001b[0mhomfly_polynomial_dict\u001b[0m\u001b[1;33m(\u001b[0m\u001b[0ms\u001b[0m\u001b[1;33m)\u001b[0m\u001b[1;33m\u001b[0m\u001b[0m\n\u001b[0;32m   2334\u001b[0m         \u001b[1;32mif\u001b[0m \u001b[0mnormalization\u001b[0m \u001b[1;33m==\u001b[0m \u001b[1;34m'lm'\u001b[0m\u001b[1;33m:\u001b[0m\u001b[1;33m\u001b[0m\u001b[0m\n",
      "\u001b[1;31mImportError\u001b[0m: No module named homfly"
     ]
    }
   ],
   "source": [
    "K1.homfly_polynomial()"
   ]
  }
 ],
 "metadata": {
  "kernelspec": {
   "display_name": "SageMath (Development)",
   "language": "",
   "name": "sage-develop"
  },
  "language_info": {
   "codemirror_mode": {
    "name": "ipython",
    "version": 2
   },
   "file_extension": ".py",
   "mimetype": "text/x-python",
   "name": "python",
   "nbconvert_exporter": "python",
   "pygments_lexer": "ipython2",
   "version": "2.7.10"
  }
 },
 "nbformat": 4,
 "nbformat_minor": 0
}
